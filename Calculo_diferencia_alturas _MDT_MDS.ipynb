{
 "cells": [
  {
   "cell_type": "code",
   "execution_count": 1,
   "metadata": {},
   "outputs": [],
   "source": [
    "#Lectura Cabecera fichero asc\n",
    "def cabecera(datos):\n",
    "    for n in range(6):\n",
    "        print(datos[n])"
   ]
  },
  {
   "cell_type": "code",
   "execution_count": 2,
   "metadata": {},
   "outputs": [],
   "source": [
    "#Devuelve datos del fichero asc\n",
    "def fichero(fichero):\n",
    "    datos = []\n",
    "    with open(fichero) as fname:\n",
    "        lineas = fname.readlines()\n",
    "        for linea in lineas:\n",
    "            datos.append(linea.strip('\\n'))\n",
    "    #nombre fichero        \n",
    "    print(fichero)\n",
    "    #cabecera fichero\n",
    "    cabecera(datos)\n",
    "    return(datos)"
   ]
  },
  {
   "cell_type": "code",
   "execution_count": 3,
   "metadata": {},
   "outputs": [
    {
     "name": "stdout",
     "output_type": "stream",
     "text": [
      "MDT05.asc\n",
      "ncols        619\n",
      "nrows        539\n",
      "xllcorner    697532.500000000000\n",
      "yllcorner    4249452.500000000000\n",
      "cellsize     5.000000000000\n",
      "NODATA_value  -999\n"
     ]
    }
   ],
   "source": [
    "mdt=fichero('MDT05.asc')"
   ]
  },
  {
   "cell_type": "code",
   "execution_count": 4,
   "metadata": {},
   "outputs": [
    {
     "name": "stdout",
     "output_type": "stream",
     "text": [
      "MDS05.asc\n",
      "ncols        619\n",
      "nrows        539\n",
      "xllcorner    697532.500000000000\n",
      "yllcorner    4249452.500000000000\n",
      "cellsize     5.000000000000\n",
      "NODATA_value  -9999\n"
     ]
    }
   ],
   "source": [
    "mds=fichero(\"MDS05.asc\")"
   ]
  },
  {
   "cell_type": "code",
   "execution_count": 5,
   "metadata": {},
   "outputs": [
    {
     "name": "stdout",
     "output_type": "stream",
     "text": [
      "Fichero creado\n"
     ]
    }
   ],
   "source": [
    "#Creamos fichero alturas.asc\n",
    "f=open(\"alturas.asc\",\"w\")\n",
    "#Copiamos lineas cabecera fichero mds\n",
    "f.write(mds[0] + \"\\n\")\n",
    "f.write(mds[1] + \"\\n\")\n",
    "f.write(mds[2] + \"\\n\")\n",
    "f.write(mds[3] + \"\\n\")\n",
    "f.write(mds[4] + \"\\n\")\n",
    "f.write(mds[5] + \"\\n\")\n",
    "\n",
    "\n",
    "#Recorremos las filas\n",
    "for s in range(6,len(mds)):\n",
    "    #Extraemos los valores de cada linea (str)\n",
    "    linea_mds = mds[s].split()\n",
    "    linea_mdt = mdt[s].split()\n",
    "    lista = \"\"\n",
    "    #Recorremos las columnas\n",
    "    for n in range(0,len(linea_mds)):\n",
    "        if (linea_mds[n] == '-9999' or linea_mdt[n] == '-999'):\n",
    "            dif = '-9999'\n",
    "        else:\n",
    "            dif = float(linea_mds[n])-float(linea_mdt[n])\n",
    "        lista = lista + str(dif) + \" \"\n",
    "    f.write(lista + \"\\n\")   \n",
    "f.close()\n",
    "print(\"Fichero creado\")"
   ]
  },
  {
   "cell_type": "code",
   "execution_count": null,
   "metadata": {},
   "outputs": [],
   "source": []
  }
 ],
 "metadata": {
  "kernelspec": {
   "display_name": "Python 3",
   "language": "python",
   "name": "python3"
  },
  "language_info": {
   "codemirror_mode": {
    "name": "ipython",
    "version": 3
   },
   "file_extension": ".py",
   "mimetype": "text/x-python",
   "name": "python",
   "nbconvert_exporter": "python",
   "pygments_lexer": "ipython3",
   "version": "3.7.4"
  }
 },
 "nbformat": 4,
 "nbformat_minor": 2
}
